{
 "cells": [
  {
   "cell_type": "code",
   "execution_count": 1,
   "outputs": [],
   "source": [
    "import scraping_character"
   ],
   "metadata": {
    "collapsed": false,
    "pycharm": {
     "name": "#%%\n"
    }
   }
  },
  {
   "cell_type": "code",
   "execution_count": 2,
   "outputs": [
    {
     "name": "stdout",
     "output_type": "stream",
     "text": [
      "Length:  9\n"
     ]
    }
   ],
   "source": [
    "list_characters = scraping_character.read_characters_file('../input/characters_selection.txt')"
   ],
   "metadata": {
    "collapsed": false,
    "pycharm": {
     "name": "#%%\n"
    }
   }
  },
  {
   "cell_type": "code",
   "execution_count": 3,
   "outputs": [
    {
     "name": "stdout",
     "output_type": "stream",
     "text": [
      "name  Smaug NULL\n",
      "https://static.wikia.nocookie.net/lotr/images/6/6a/%22And_do_you_now%3F%22.JPG/revision/latest/scale-to-width-down/350?cb=20210913160938\n",
      "Unknown\n",
      "name  Óin NULL\n",
      "https://static.wikia.nocookie.net/lotr/images/e/e8/Oin.jpg/revision/latest/scale-to-width-down/350?cb=20120908125247\n",
      "TA 2774[1]\n",
      "name  Balin NULL\n",
      "https://static.wikia.nocookie.net/lotr/images/5/52/Balin.jpg/revision/latest/scale-to-width-down/350?cb=20120911171656\n",
      "TA 2763\n",
      "name  Beorn NULL\n",
      "https://static.wikia.nocookie.net/lotr/images/5/5e/Beorn1.jpg/revision/latest/scale-to-width-down/350?cb=20130129132629\n",
      "Unknown\n",
      "name  Galadriel NULL\n",
      "https://static.wikia.nocookie.net/lotr/images/c/cb/Galadriel.jpg/revision/latest/scale-to-width-down/322?cb=20151015204512\n",
      "YT 1362\n",
      "name  Witch-king of Angmar\n",
      "https://static.wikia.nocookie.net/lotr/images/5/59/Witch-king.jpg/revision/latest/scale-to-width-down/350?cb=20220209185252\n",
      "Second Age\n",
      "name  Boromir NULL\n",
      "https://static.wikia.nocookie.net/lotr/images/b/b4/Seanbean_boromir.jpg/revision/latest/scale-to-width-down/343?cb=20110327195115\n",
      "TA 2978\n",
      "name  Thorin II Oakenshield\n",
      "https://static.wikia.nocookie.net/lotr/images/7/76/ThorinTDOMTextlessPoster.jpg/revision/latest/scale-to-width-down/343?cb=20140731214832\n",
      "TA 2746\n",
      "name  Peregrin Took\n",
      "https://static.wikia.nocookie.net/lotr/images/0/0a/Pippinprintscreen.jpg/revision/latest?cb=20060310083048\n",
      "Spring TA 2990/SR 1390[1]\n"
     ]
    }
   ],
   "source": [
    "scraping_character.queries_to_file(list_characters)"
   ],
   "metadata": {
    "collapsed": false,
    "pycharm": {
     "name": "#%%\n"
    }
   }
  },
  {
   "cell_type": "code",
   "execution_count": 3,
   "outputs": [],
   "source": [],
   "metadata": {
    "collapsed": false,
    "pycharm": {
     "name": "#%%\n"
    }
   }
  }
 ],
 "metadata": {
  "kernelspec": {
   "display_name": "Python 3",
   "language": "python",
   "name": "python3"
  },
  "language_info": {
   "codemirror_mode": {
    "name": "ipython",
    "version": 2
   },
   "file_extension": ".py",
   "mimetype": "text/x-python",
   "name": "python",
   "nbconvert_exporter": "python",
   "pygments_lexer": "ipython2",
   "version": "2.7.6"
  }
 },
 "nbformat": 4,
 "nbformat_minor": 0
}