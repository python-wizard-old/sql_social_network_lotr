{
 "cells": [
  {
   "cell_type": "code",
   "execution_count": 1,
   "outputs": [],
   "source": [
    "import scraping_character"
   ],
   "metadata": {
    "collapsed": false,
    "pycharm": {
     "name": "#%%\n"
    }
   }
  },
  {
   "cell_type": "code",
   "execution_count": 2,
   "outputs": [
    {
     "name": "stdout",
     "output_type": "stream",
     "text": [
      "Length:  43\n"
     ]
    }
   ],
   "source": [
    "list_characters = scraping_character.read_characters_file('../input/characters.txt')"
   ],
   "metadata": {
    "collapsed": false,
    "pycharm": {
     "name": "#%%\n"
    }
   }
  },
  {
   "cell_type": "code",
   "execution_count": 3,
   "outputs": [
    {
     "data": {
      "text/plain": "['Gollum',\n 'Aragorn_II_Elessar',\n 'Sauron',\n 'Gandalf',\n 'Bilbo_Baggins',\n 'Frodo_Baggins',\n 'Bombur',\n 'Galion',\n 'Bard',\n 'Roäc',\n 'Bolg',\n 'Beorning',\n 'Balin',\n 'Samwise_Gamgee',\n 'Sting',\n 'Belladonna_(Took)_Baggins',\n 'Smaug',\n 'Óin',\n 'Glóin',\n 'Balin',\n 'Glamdring',\n 'Orcrist',\n 'Elrond',\n 'Dori',\n 'Beorn',\n 'Galadriel',\n 'Celeborn',\n 'Witch-king_of_Angmar',\n 'Shelob',\n 'Phial_of_Galadriel',\n 'Gwaihir',\n 'Landroval',\n 'Meneldor',\n 'Will_Whitfoot',\n 'Rosie_Cotton',\n 'Boromir',\n 'Legolas',\n 'Gimli',\n 'Thorin_II_Oakenshield',\n \"Durin's_Bane\",\n 'Primula_(Brandybuck)_Baggins',\n 'Peregrin_Took',\n 'Meriadoc_Brandybuck']"
     },
     "execution_count": 3,
     "metadata": {},
     "output_type": "execute_result"
    }
   ],
   "source": [
    "list_characters"
   ],
   "metadata": {
    "collapsed": false,
    "pycharm": {
     "name": "#%%\n"
    }
   }
  },
  {
   "cell_type": "code",
   "execution_count": 4,
   "outputs": [
    {
     "name": "stdout",
     "output_type": "stream",
     "text": [
      "name  Gollum NULL\n",
      "https://static.wikia.nocookie.net/lotr/images/e/e1/Gollum_Render.png/revision/latest?cb=20141218075509\n",
      "TA 2430\n",
      "name  Aragorn II Elessar\n",
      "https://static.wikia.nocookie.net/lotr/images/b/b6/Aragorn_profile.jpg/revision/latest/scale-to-width-down/333?cb=20170121121423\n",
      "March 1, TA 2931\n",
      "name  Sauron NULL\n",
      "https://static.wikia.nocookie.net/lotr/images/9/90/Sauron-2.jpg/revision/latest?cb=20110508182634\n",
      "Before the Ainulindalë\n",
      "name  Gandalf NULL\n",
      "https://static.wikia.nocookie.net/lotr/images/e/e7/Gandalf_the_Grey.jpg/revision/latest/scale-to-width-down/350?cb=20121110131754\n",
      "Before the Shaping of Arda\n",
      "name  Bilbo Baggins\n",
      "https://static.wikia.nocookie.net/lotr/images/b/b6/The_Hobbit_wallpaper_48.jpg/revision/latest/scale-to-width-down/331?cb=20131112182330\n",
      "22 September, TA 2890 (SR 1290)\n",
      "name  Frodo Baggins\n",
      "https://static.wikia.nocookie.net/lotr/images/1/1a/FotR_-_Elijah_Wood_as_Frodo.png/revision/latest/scale-to-width-down/350?cb=20130313174543\n",
      "September 22, TA 2968 (SR 1368)\n",
      "name  Bombur NULL\n",
      "https://static.wikia.nocookie.net/lotr/images/5/5f/Bombur-stephenhunter-p.jpg/revision/latest/scale-to-width-down/350?cb=20120107054531\n",
      "name  Galion NULL\n",
      "https://static.wikia.nocookie.net/lotr/images/2/24/Galion_by_Neldor.jpg/revision/latest/scale-to-width-down/350?cb=20151206123521\n",
      "name  Bard NULL\n",
      "https://static.wikia.nocookie.net/lotr/images/9/94/Luke_Evans_as_Bard.jpg/revision/latest/scale-to-width-down/350?cb=20181121032346\n",
      "name  Roäc NULL\n",
      "https://static.wikia.nocookie.net/lotr/images/0/05/BotFA_-_Ro%C3%A4c_returns.JPG/revision/latest/scale-to-width-down/350?cb=20150303190037\n",
      "TA 2788\n",
      "name  Bolg NULL\n",
      "https://static.wikia.nocookie.net/lotr/images/b/b3/Bolg_in_Ravenhill.jpg/revision/latest/scale-to-width-down/350?cb=20141226160836\n",
      "Unknown\n",
      "name  Beorning NULL\n",
      "https://static.wikia.nocookie.net/lotr/images/5/52/Beorn-nasmith.jpg/revision/latest?cb=20050525111816\n",
      "name  Balin NULL\n",
      "https://static.wikia.nocookie.net/lotr/images/5/52/Balin.jpg/revision/latest/scale-to-width-down/350?cb=20120911171656\n",
      "TA 2763\n",
      "name  Samwise Gamgee\n",
      "https://static.wikia.nocookie.net/lotr/images/2/20/Sam.jpg/revision/latest?cb=20070623123241\n",
      "April 6, TA 2980/SR 1380\n",
      "name  Sting NULL\n",
      "https://static.wikia.nocookie.net/lotr/images/5/5d/Sting_with_scabbard.jpg/revision/latest/scale-to-width-down/350?cb=20140527085852\n",
      "name  Belladonna (Took) Baggins\n",
      "https://static.wikia.nocookie.net/lotr/images/9/9d/Belladonna_Took.png/revision/latest?cb=20140218183844\n",
      "TA 2852 (SR 1252)\n",
      "name  Smaug NULL\n",
      "https://static.wikia.nocookie.net/lotr/images/6/6a/%22And_do_you_now%3F%22.JPG/revision/latest/scale-to-width-down/350?cb=20210913160938\n",
      "Unknown\n",
      "name  Óin NULL\n",
      "https://static.wikia.nocookie.net/lotr/images/e/e8/Oin.jpg/revision/latest/scale-to-width-down/350?cb=20120908125247\n",
      "TA 2774[1]\n",
      "name  Glóin NULL\n",
      "https://static.wikia.nocookie.net/lotr/images/f/fc/Gloin_2.jpg/revision/latest/scale-to-width-down/350?cb=20120908171710\n",
      "TA 2783\n",
      "name  Balin NULL\n",
      "https://static.wikia.nocookie.net/lotr/images/5/52/Balin.jpg/revision/latest/scale-to-width-down/350?cb=20120911171656\n",
      "TA 2763\n",
      "name  Glamdring NULL\n",
      "https://static.wikia.nocookie.net/lotr/images/2/28/Glamdring.jpg/revision/latest/scale-to-width-down/161?cb=20110311214742\n",
      "name  Orcrist NULL\n",
      "https://static.wikia.nocookie.net/lotr/images/b/b6/Orcrist_1.JPG/revision/latest/scale-to-width-down/350?cb=20150509115035\n",
      "name  Elrond NULL\n",
      "https://static.wikia.nocookie.net/lotr/images/9/9f/Elrond_of_Rivendell.jpg/revision/latest/scale-to-width-down/322?cb=20130202120854\n",
      "FA 532[1]\n",
      "name  Dori NULL\n",
      "https://static.wikia.nocookie.net/lotr/images/8/89/Dori-markhadlow-p.jpg/revision/latest/scale-to-width-down/350?cb=20120107052829\n",
      "name  Beorn NULL\n",
      "https://static.wikia.nocookie.net/lotr/images/5/5e/Beorn1.jpg/revision/latest/scale-to-width-down/350?cb=20130129132629\n",
      "Unknown\n",
      "name  Galadriel NULL\n",
      "https://static.wikia.nocookie.net/lotr/images/c/cb/Galadriel.jpg/revision/latest/scale-to-width-down/322?cb=20151015204512\n",
      "YT 1362\n",
      "name  Celeborn NULL\n",
      "https://static.wikia.nocookie.net/lotr/images/a/a9/Celeborn_-_FOTR.png/revision/latest/scale-to-width-down/350?cb=20121002120216\n",
      "Uncertain; possibly Years of the Trees\n",
      "name  Witch-king of Angmar\n",
      "https://static.wikia.nocookie.net/lotr/images/5/59/Witch-king.jpg/revision/latest/scale-to-width-down/350?cb=20220209185252\n",
      "Second Age\n",
      "name  Shelob NULL\n",
      "https://static.wikia.nocookie.net/lotr/images/2/2d/Shelob.png/revision/latest/scale-to-width-down/138?cb=20070405134747\n",
      "name  Phial of Galadriel\n",
      "https://static.wikia.nocookie.net/lotr/images/9/9f/FotR_-_Phial_of_Galadriel.jpg/revision/latest/scale-to-width-down/350?cb=20200229212958\n",
      "name  Gwaihir NULL\n",
      "https://static.wikia.nocookie.net/lotr/images/4/41/Gwaihir.jpg/revision/latest/scale-to-width-down/350?cb=20210916194719\n",
      "Unknown\n",
      "name  Landroval NULL\n",
      "https://static.wikia.nocookie.net/lotr/images/b/bf/Landroval.png/revision/latest/scale-to-width-down/350?cb=20110809171433\n",
      "Possibly First Age\n",
      "name  Meneldor NULL\n",
      "https://static.wikia.nocookie.net/lotr/images/8/8b/Meneldor_-_LOTR_The_Card_Game.JPG/revision/latest/scale-to-width-down/350?cb=20220419185440\n",
      "name  Will Whitfoot\n",
      "https://static.wikia.nocookie.net/lotr/images/f/f3/The_Lord_of_the_Rings_Online_-_Will_Whitfoot.jpg/revision/latest/scale-to-width-down/283?cb=20210217094519\n",
      "name  Rosie Cotton\n",
      "https://static.wikia.nocookie.net/lotr/images/5/5c/Rosie_Cotton_celebrates_-_FOTR.png/revision/latest/scale-to-width-down/350?cb=20121003132330\n",
      "TA 2984 (SR 1384)[1]\n",
      "name  Boromir NULL\n",
      "https://static.wikia.nocookie.net/lotr/images/b/b4/Seanbean_boromir.jpg/revision/latest/scale-to-width-down/343?cb=20110327195115\n",
      "TA 2978\n",
      "name  Legolas NULL\n",
      "https://static.wikia.nocookie.net/lotr/images/3/34/934_legolas-gollum-80273301.jpg/revision/latest/scale-to-width-down/350?cb=20121225094145\n",
      "name  Gimli NULL\n",
      "https://static.wikia.nocookie.net/lotr/images/e/ec/Gimli_-_FOTR.png/revision/latest/scale-to-width-down/350?cb=20121008105956\n",
      "TA 2879\n",
      "name  Thorin II Oakenshield\n",
      "https://static.wikia.nocookie.net/lotr/images/7/76/ThorinTDOMTextlessPoster.jpg/revision/latest/scale-to-width-down/343?cb=20140731214832\n",
      "TA 2746\n",
      "name  Durin's Bane\n",
      "https://static.wikia.nocookie.net/lotr/images/c/c4/Balrog_-_FOTR.png/revision/latest/scale-to-width-down/350?cb=20210916195941\n",
      "Before the creation of Arda\n",
      "name  Primula (Brandybuck) Baggins\n",
      "https://static.wikia.nocookie.net/lotr/images/2/25/Drogo_%26_Primula_Baggins.jpg/revision/latest/scale-to-width-down/350?cb=20101013225400\n",
      "TA 2920 (SR 1320)\n",
      "name  Peregrin Took\n",
      "https://static.wikia.nocookie.net/lotr/images/0/0a/Pippinprintscreen.jpg/revision/latest?cb=20060310083048\n",
      "Spring TA 2990/SR 1390[1]\n",
      "name  Meriadoc Brandybuck\n",
      "https://static.wikia.nocookie.net/lotr/images/d/d8/Merry1.jpg/revision/latest/scale-to-width-down/350?cb=20080318214905\n",
      "TA 2982/SR 1382\n"
     ]
    }
   ],
   "source": [
    "scraping_character.queries_to_file(list_characters)"
   ],
   "metadata": {
    "collapsed": false,
    "pycharm": {
     "name": "#%%\n"
    }
   }
  },
  {
   "cell_type": "code",
   "execution_count": 4,
   "outputs": [],
   "source": [],
   "metadata": {
    "collapsed": false,
    "pycharm": {
     "name": "#%%\n"
    }
   }
  }
 ],
 "metadata": {
  "kernelspec": {
   "display_name": "Python 3",
   "language": "python",
   "name": "python3"
  },
  "language_info": {
   "codemirror_mode": {
    "name": "ipython",
    "version": 2
   },
   "file_extension": ".py",
   "mimetype": "text/x-python",
   "name": "python",
   "nbconvert_exporter": "python",
   "pygments_lexer": "ipython2",
   "version": "2.7.6"
  }
 },
 "nbformat": 4,
 "nbformat_minor": 0
}