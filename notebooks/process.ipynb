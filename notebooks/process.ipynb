{
 "cells": [
  {
   "cell_type": "code",
   "execution_count": 1,
   "outputs": [],
   "source": [
    "import scraping_character"
   ],
   "metadata": {
    "collapsed": false,
    "pycharm": {
     "name": "#%%\n"
    }
   }
  },
  {
   "cell_type": "code",
   "execution_count": 2,
   "outputs": [
    {
     "name": "stdout",
     "output_type": "stream",
     "text": [
      "Length:  11\n"
     ]
    }
   ],
   "source": [
    "list_characters = scraping_character.read_characters_file('../input/characters.txt')"
   ],
   "metadata": {
    "collapsed": false,
    "pycharm": {
     "name": "#%%\n"
    }
   }
  },
  {
   "cell_type": "code",
   "execution_count": 3,
   "outputs": [],
   "source": [
    "list_characters = list_characters[:10]"
   ],
   "metadata": {
    "collapsed": false,
    "pycharm": {
     "name": "#%%\n"
    }
   }
  },
  {
   "cell_type": "code",
   "execution_count": 4,
   "outputs": [
    {
     "name": "stdout",
     "output_type": "stream",
     "text": [
      "name  Gollum NULL\n",
      "https://static.wikia.nocookie.net/lotr/images/e/e1/Gollum_Render.png/revision/latest?cb=20141218075509\n",
      "TA 2430\n",
      "name  Aragorn II Elessar\n",
      "https://static.wikia.nocookie.net/lotr/images/b/b6/Aragorn_profile.jpg/revision/latest/scale-to-width-down/333?cb=20170121121423\n",
      "March 1, TA 2931\n",
      "name  Sauron NULL\n",
      "https://static.wikia.nocookie.net/lotr/images/9/90/Sauron-2.jpg/revision/latest?cb=20110508182634\n",
      "Before the Ainulindalë\n",
      "name  Gandalf NULL\n",
      "https://static.wikia.nocookie.net/lotr/images/e/e7/Gandalf_the_Grey.jpg/revision/latest/scale-to-width-down/350?cb=20121110131754\n",
      "Before the Shaping of Arda\n",
      "name  Bilbo Baggins\n",
      "https://static.wikia.nocookie.net/lotr/images/b/b6/The_Hobbit_wallpaper_48.jpg/revision/latest/scale-to-width-down/331?cb=20131112182330\n",
      "22 September, TA 2890 (SR 1290)\n",
      "name  Frodo Baggins\n",
      "https://static.wikia.nocookie.net/lotr/images/1/1a/FotR_-_Elijah_Wood_as_Frodo.png/revision/latest/scale-to-width-down/350?cb=20130313174543\n",
      "September 22, TA 2968 (SR 1368)\n",
      "name  Bombur NULL\n",
      "https://static.wikia.nocookie.net/lotr/images/5/5f/Bombur-stephenhunter-p.jpg/revision/latest/scale-to-width-down/350?cb=20120107054531\n",
      "name  Galion NULL\n",
      "https://static.wikia.nocookie.net/lotr/images/2/24/Galion_by_Neldor.jpg/revision/latest/scale-to-width-down/350?cb=20151206123521\n",
      "name  Samwise Gamgee\n",
      "https://static.wikia.nocookie.net/lotr/images/2/20/Sam.jpg/revision/latest?cb=20070623123241\n",
      "April 6, TA 2980/SR 1380\n",
      "name  Glóin NULL\n",
      "https://static.wikia.nocookie.net/lotr/images/f/fc/Gloin_2.jpg/revision/latest/scale-to-width-down/350?cb=20120908171710\n",
      "TA 2783\n"
     ]
    }
   ],
   "source": [
    "scraping_character.queries_to_file(list_characters)"
   ],
   "metadata": {
    "collapsed": false,
    "pycharm": {
     "name": "#%%\n"
    }
   }
  },
  {
   "cell_type": "code",
   "execution_count": 4,
   "outputs": [],
   "source": [],
   "metadata": {
    "collapsed": false,
    "pycharm": {
     "name": "#%%\n"
    }
   }
  }
 ],
 "metadata": {
  "kernelspec": {
   "display_name": "Python 3",
   "language": "python",
   "name": "python3"
  },
  "language_info": {
   "codemirror_mode": {
    "name": "ipython",
    "version": 2
   },
   "file_extension": ".py",
   "mimetype": "text/x-python",
   "name": "python",
   "nbconvert_exporter": "python",
   "pygments_lexer": "ipython2",
   "version": "2.7.6"
  }
 },
 "nbformat": 4,
 "nbformat_minor": 0
}